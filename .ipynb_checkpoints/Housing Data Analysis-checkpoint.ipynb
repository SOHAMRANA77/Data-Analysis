{
 "cells": [
  {
   "cell_type": "markdown",
   "id": "705289d3-9ea7-4a75-8143-97e7398cff35",
   "metadata": {},
   "source": [
    "## LONDON HOUSING DATASET\n",
    "\n",
    "\r\n",
    "The London Housing Dataset primarily focuses on the housing market within London, offering a comprehensive array of pertinent data. The dataset encompasses various key aspects, including:\r\n",
    "\r\n",
    "- Monthly average house prices\r\n",
    "- Yearly number of houses sold\r\n",
    "- Monthly number of reported crimes\r\n",
    "\r\n",
    "The data spans from the year 1995 to 2019, encompassing different areas within London. Acquired from Kaggle, this dataset is conveniently available in CSV format. For our analysis, we employ the powerful Pandas DataFrame, a crucial tool for handling and manipulating structured data in Python.\r\n",
    "\r\n",
    "This project caters to individuals at the beginner level, providing valuable insights into the intricacies of analyzing substantial datasets using Python. We have curated a set of sample questions, designed to guide our exploration and derive meaningful insights from thithin each group.s dataset."
   ]
  },
  {
   "cell_type": "markdown",
   "id": "df4c7e1b-f67d-4f3c-9636-d21104468853",
   "metadata": {},
   "source": [
    "- import pandas as pd: Utilized to import the Pandas library for efficient data manipulation and analysis.\n",
    "- pd.read_csv: Employed to read and import a CSV file into a Jupyter notebook, facilitating data access.\n",
    "- df.count(): Utilized to count the number of non-null values for each column within the DataFrame.\n",
    "- df.isnull().sum(): Implemented to detect and quantify missing values present in the DataFrame.\n",
    "- import seaborn as sns: Employed to import the Seaborn library, aiding in statistical data visualization.\n",
    "- import matplotlib.pyplot as plt: Utilized to import the Matplotlib library, essential for creating visualizations and plots.\n",
    "- sns.heatmap(df.isnull()): Employed to display a heatmap representing missing values in the DataFrame, aiding in data quality assessment.\n",
    "- plt.show(): Utilized to display the plot or visualization created using Matplotlib.\n",
    "- df.dtypes: Utilized to display the datatype of each column in the DataFrame.\n",
    "- pd.to_datetime(df.Date_Time_Col): Employed to convert the datatype of a Date-Time column into the datetime[ns] datatype.\n",
    "- df.Time_Col.dt.year: Utilized to create a new column with only year values.\n",
    "- df.Time_Col.dt.month: Employed to create a new column with only month values.\n",
    "- df.insert(index, 'new_column_name', new_column_values): Used to insert a new column at a specific position with defined values.\n",
    "- df.drop(['Col_name'], axis=1, inplace=True): Employed to permanently remove a specified column from the DataFrame.\n",
    "- df.groupby('Col_name'): Utilized to form groups based on all unique values within a specified column.\n",
    "- df[df.Col_1 == 'Element1']: Employed for filtering, specifically accessing records where Col_1 equals 'Element1'.\n",
    "- df.groupby('Col_1')['Col_2'].mean(): Used to create groups based on Col_1 and calculate the mean of Col_2 within each group."
   ]
  },
  {
   "cell_type": "code",
   "execution_count": 1,
   "id": "2a34abe2-ecb3-4982-b227-80ff2aaf23ec",
   "metadata": {},
   "outputs": [],
   "source": [
    "import pandas as pd"
   ]
  },
  {
   "cell_type": "code",
   "execution_count": 3,
   "id": "ef717667-8772-4641-a6a6-34d7888dc63f",
   "metadata": {},
   "outputs": [],
   "source": [
    "housing = pd.read_csv(r\"Data/LondonHousingData.csv\")"
   ]
  },
  {
   "cell_type": "code",
   "execution_count": 4,
   "id": "66133b05-3bdb-49ee-af7e-a27a4baf728a",
   "metadata": {},
   "outputs": [
    {
     "data": {
      "text/html": [
       "<div>\n",
       "<style scoped>\n",
       "    .dataframe tbody tr th:only-of-type {\n",
       "        vertical-align: middle;\n",
       "    }\n",
       "\n",
       "    .dataframe tbody tr th {\n",
       "        vertical-align: top;\n",
       "    }\n",
       "\n",
       "    .dataframe thead th {\n",
       "        text-align: right;\n",
       "    }\n",
       "</style>\n",
       "<table border=\"1\" class=\"dataframe\">\n",
       "  <thead>\n",
       "    <tr style=\"text-align: right;\">\n",
       "      <th></th>\n",
       "      <th>date</th>\n",
       "      <th>area</th>\n",
       "      <th>average_price</th>\n",
       "      <th>code</th>\n",
       "      <th>houses_sold</th>\n",
       "      <th>no_of_crimes</th>\n",
       "    </tr>\n",
       "  </thead>\n",
       "  <tbody>\n",
       "    <tr>\n",
       "      <th>0</th>\n",
       "      <td>1/1/1995</td>\n",
       "      <td>city of london</td>\n",
       "      <td>91449</td>\n",
       "      <td>E09000001</td>\n",
       "      <td>17.0</td>\n",
       "      <td>NaN</td>\n",
       "    </tr>\n",
       "    <tr>\n",
       "      <th>1</th>\n",
       "      <td>2/1/1995</td>\n",
       "      <td>city of london</td>\n",
       "      <td>82203</td>\n",
       "      <td>E09000001</td>\n",
       "      <td>7.0</td>\n",
       "      <td>NaN</td>\n",
       "    </tr>\n",
       "    <tr>\n",
       "      <th>2</th>\n",
       "      <td>3/1/1995</td>\n",
       "      <td>city of london</td>\n",
       "      <td>79121</td>\n",
       "      <td>E09000001</td>\n",
       "      <td>14.0</td>\n",
       "      <td>NaN</td>\n",
       "    </tr>\n",
       "    <tr>\n",
       "      <th>3</th>\n",
       "      <td>4/1/1995</td>\n",
       "      <td>city of london</td>\n",
       "      <td>77101</td>\n",
       "      <td>E09000001</td>\n",
       "      <td>7.0</td>\n",
       "      <td>NaN</td>\n",
       "    </tr>\n",
       "    <tr>\n",
       "      <th>4</th>\n",
       "      <td>5/1/1995</td>\n",
       "      <td>city of london</td>\n",
       "      <td>84409</td>\n",
       "      <td>E09000001</td>\n",
       "      <td>10.0</td>\n",
       "      <td>NaN</td>\n",
       "    </tr>\n",
       "    <tr>\n",
       "      <th>...</th>\n",
       "      <td>...</td>\n",
       "      <td>...</td>\n",
       "      <td>...</td>\n",
       "      <td>...</td>\n",
       "      <td>...</td>\n",
       "      <td>...</td>\n",
       "    </tr>\n",
       "    <tr>\n",
       "      <th>13544</th>\n",
       "      <td>9/1/2019</td>\n",
       "      <td>england</td>\n",
       "      <td>249942</td>\n",
       "      <td>E92000001</td>\n",
       "      <td>64605.0</td>\n",
       "      <td>NaN</td>\n",
       "    </tr>\n",
       "    <tr>\n",
       "      <th>13545</th>\n",
       "      <td>10/1/2019</td>\n",
       "      <td>england</td>\n",
       "      <td>249376</td>\n",
       "      <td>E92000001</td>\n",
       "      <td>68677.0</td>\n",
       "      <td>NaN</td>\n",
       "    </tr>\n",
       "    <tr>\n",
       "      <th>13546</th>\n",
       "      <td>11/1/2019</td>\n",
       "      <td>england</td>\n",
       "      <td>248515</td>\n",
       "      <td>E92000001</td>\n",
       "      <td>67814.0</td>\n",
       "      <td>NaN</td>\n",
       "    </tr>\n",
       "    <tr>\n",
       "      <th>13547</th>\n",
       "      <td>12/1/2019</td>\n",
       "      <td>england</td>\n",
       "      <td>250410</td>\n",
       "      <td>E92000001</td>\n",
       "      <td>NaN</td>\n",
       "      <td>NaN</td>\n",
       "    </tr>\n",
       "    <tr>\n",
       "      <th>13548</th>\n",
       "      <td>1/1/2020</td>\n",
       "      <td>england</td>\n",
       "      <td>247355</td>\n",
       "      <td>E92000001</td>\n",
       "      <td>NaN</td>\n",
       "      <td>NaN</td>\n",
       "    </tr>\n",
       "  </tbody>\n",
       "</table>\n",
       "<p>13549 rows × 6 columns</p>\n",
       "</div>"
      ],
      "text/plain": [
       "            date            area  average_price       code  houses_sold  \\\n",
       "0       1/1/1995  city of london          91449  E09000001         17.0   \n",
       "1       2/1/1995  city of london          82203  E09000001          7.0   \n",
       "2       3/1/1995  city of london          79121  E09000001         14.0   \n",
       "3       4/1/1995  city of london          77101  E09000001          7.0   \n",
       "4       5/1/1995  city of london          84409  E09000001         10.0   \n",
       "...          ...             ...            ...        ...          ...   \n",
       "13544   9/1/2019         england         249942  E92000001      64605.0   \n",
       "13545  10/1/2019         england         249376  E92000001      68677.0   \n",
       "13546  11/1/2019         england         248515  E92000001      67814.0   \n",
       "13547  12/1/2019         england         250410  E92000001          NaN   \n",
       "13548   1/1/2020         england         247355  E92000001          NaN   \n",
       "\n",
       "       no_of_crimes  \n",
       "0               NaN  \n",
       "1               NaN  \n",
       "2               NaN  \n",
       "3               NaN  \n",
       "4               NaN  \n",
       "...             ...  \n",
       "13544           NaN  \n",
       "13545           NaN  \n",
       "13546           NaN  \n",
       "13547           NaN  \n",
       "13548           NaN  \n",
       "\n",
       "[13549 rows x 6 columns]"
      ]
     },
     "execution_count": 4,
     "metadata": {},
     "output_type": "execute_result"
    }
   ],
   "source": [
    "housing"
   ]
  },
  {
   "cell_type": "markdown",
   "id": "6a73bd16-ea8a-4c80-ab49-3d9f5460dcb1",
   "metadata": {},
   "source": [
    "## Convert Date Column Datatype:\n",
    "\n",
    "Question: Convert the datatype of the 'Date' column to the Date-Time format."
   ]
  },
  {
   "cell_type": "code",
   "execution_count": null,
   "id": "40332999-52d8-4582-ae7b-5c1a04a6ce53",
   "metadata": {},
   "outputs": [],
   "source": []
  },
  {
   "cell_type": "markdown",
   "id": "e665753d-44fd-445a-b7c0-a5eacfdc25d8",
   "metadata": {},
   "source": [
    "## Create Year and Month Columns:\n",
    "\n",
    "Question 2A: Add a new column 'year' containing only the years.\n",
    "Question 2B: Add a new column 'month' as the second column in the dataframe, containing only the months."
   ]
  },
  {
   "cell_type": "code",
   "execution_count": null,
   "id": "3e4b9a1e-5370-45cb-9e7b-83a100905399",
   "metadata": {},
   "outputs": [],
   "source": []
  },
  {
   "cell_type": "markdown",
   "id": "c3664f44-52a0-453e-924a-173b53d51618",
   "metadata": {},
   "source": [
    "## Remove Year and Month Columns:\n",
    "\n",
    "Question: Remove the 'year' and 'month' columns from the dataframe."
   ]
  },
  {
   "cell_type": "code",
   "execution_count": null,
   "id": "8b5aeadf-920a-406d-b6c8-06b225c35139",
   "metadata": {},
   "outputs": [],
   "source": []
  },
  {
   "cell_type": "markdown",
   "id": "8d7f2243-a923-4fff-9ee2-058880e6142a",
   "metadata": {},
   "source": [
    "## Records with Zero Crimes:\n",
    "\n",
    "Question: Display all records where the 'No. of Crimes' is 0. How many such records are there?"
   ]
  },
  {
   "cell_type": "code",
   "execution_count": null,
   "id": "cd9ee99a-0cfb-446a-be0e-800e9425738a",
   "metadata": {},
   "outputs": [],
   "source": []
  },
  {
   "cell_type": "markdown",
   "id": "5be64a32-3bbe-4cc1-aff4-07d2d34a1763",
   "metadata": {},
   "source": [
    "## Maximum and Minimum Average Price per Year in England:\n",
    "\n",
    "Question: Determine the maximum and minimum 'average_price' per year in England."
   ]
  },
  {
   "cell_type": "code",
   "execution_count": null,
   "id": "b2ebce0f-50d5-4a3c-b45a-de31fb6890ae",
   "metadata": {},
   "outputs": [],
   "source": []
  },
  {
   "cell_type": "markdown",
   "id": "1e94ef4d-da1a-4603-9152-4f33446ee13d",
   "metadata": {},
   "source": [
    "## Maximum and Minimum No. of Crimes per Area:\n",
    "\n",
    "Question: Determine the maximum and minimum number of crimes recorded per area."
   ]
  },
  {
   "cell_type": "code",
   "execution_count": null,
   "id": "aff80fa3-26eb-49dc-ac18-eed1f10a4830",
   "metadata": {},
   "outputs": [],
   "source": []
  },
  {
   "cell_type": "markdown",
   "id": "1904ef6e-f051-48ad-926f-4ef7c70a65c2",
   "metadata": {},
   "source": [
    "## Count of Records per Area with Average Price Below 100000:\n",
    "\n",
    "Question: Show the total count of records for each area where the average price is less than 100000."
   ]
  },
  {
   "cell_type": "code",
   "execution_count": null,
   "id": "d1b669b0-741d-410a-bbc0-89c5f7b9514f",
   "metadata": {},
   "outputs": [],
   "source": []
  }
 ],
 "metadata": {
  "kernelspec": {
   "display_name": "Python 3 (ipykernel)",
   "language": "python",
   "name": "python3"
  },
  "language_info": {
   "codemirror_mode": {
    "name": "ipython",
    "version": 3
   },
   "file_extension": ".py",
   "mimetype": "text/x-python",
   "name": "python",
   "nbconvert_exporter": "python",
   "pygments_lexer": "ipython3",
   "version": "3.11.5"
  }
 },
 "nbformat": 4,
 "nbformat_minor": 5
}
